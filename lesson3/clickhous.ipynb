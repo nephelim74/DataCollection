{
 "cells": [
  {
   "cell_type": "markdown",
   "metadata": {},
   "source": [
    "Connect to My First Service\n",
    "\n",
    "Get started by creating a high-powered serverless ClickHouse database in minutes.\n",
    "\n",
    "default\n",
    "\n",
    "\n",
    "Username\n",
    "6Z_t8LXmW6RRo\n",
    "\n",
    "\n",
    "\n",
    "Password\n",
    "\n",
    "Connect with:\n",
    "\n",
    "\n",
    "HTTPS\n",
    "Run the following command from your terminal:\n",
    "\n",
    "\n",
    "curl --user 'default:6Z_t8LXmW6RRo' \\\n",
    "  --data-binary 'SELECT 1' \\\n",
    "  https://qz7i4ae029.europe-west4.gcp.clickhouse.cloud:8443"
   ]
  },
  {
   "cell_type": "markdown",
   "metadata": {},
   "source": [
    "Get started by creating a high-powered serverless ClickHouse database in minutes.\n",
    "\n",
    "default\n",
    "\n",
    "\n",
    "Username\n",
    "6Z_t8LXmW6RRo\n",
    "\n",
    "\n",
    "\n",
    "Password\n",
    "\n",
    "Connect with:\n",
    "\n",
    "\n",
    "Native\n",
    "Installation\n",
    "Run the following command in your terminal to install it on Linux, macOS, or FreeBSD.\n",
    "Or check out all the installation options\n",
    "\n",
    "\n",
    "curl https://clickhouse.com/ | sh\n",
    "Connection\n",
    "\n",
    "./clickhouse client --host qz7i4ae029.europe-west4.gcp.clickhouse.cloud --secure --password '6Z_t8LXmW6RRo'\n",
    "Visit the documentation to learn how to use the ClickHouse Client\n",
    "\n"
   ]
  },
  {
   "cell_type": "code",
   "execution_count": null,
   "metadata": {
    "vscode": {
     "languageId": "plaintext"
    }
   },
   "outputs": [],
   "source": []
  }
 ],
 "metadata": {
  "language_info": {
   "name": "python"
  }
 },
 "nbformat": 4,
 "nbformat_minor": 2
}
