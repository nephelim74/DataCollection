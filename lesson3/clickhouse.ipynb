{
 "cells": [
  {
   "cell_type": "code",
   "execution_count": 1,
   "id": "b433ead3",
   "metadata": {},
   "outputs": [
    {
     "name": "stdout",
     "output_type": "stream",
     "text": [
      "Requirement already satisfied: docker in c:\\users\\nephelim\\appdata\\local\\programs\\python\\python311\\lib\\site-packages (7.1.0)\n",
      "Requirement already satisfied: pywin32>=304 in c:\\users\\nephelim\\appdata\\local\\programs\\python\\python311\\lib\\site-packages (from docker) (306)\n",
      "Requirement already satisfied: requests>=2.26.0 in c:\\users\\nephelim\\appdata\\local\\programs\\python\\python311\\lib\\site-packages (from docker) (2.31.0)\n",
      "Requirement already satisfied: urllib3>=1.26.0 in c:\\users\\nephelim\\appdata\\local\\programs\\python\\python311\\lib\\site-packages (from docker) (2.2.1)\n",
      "Requirement already satisfied: charset-normalizer<4,>=2 in c:\\users\\nephelim\\appdata\\local\\programs\\python\\python311\\lib\\site-packages (from requests>=2.26.0->docker) (3.3.2)\n",
      "Requirement already satisfied: idna<4,>=2.5 in c:\\users\\nephelim\\appdata\\local\\programs\\python\\python311\\lib\\site-packages (from requests>=2.26.0->docker) (3.6)\n",
      "Requirement already satisfied: certifi>=2017.4.17 in c:\\users\\nephelim\\appdata\\local\\programs\\python\\python311\\lib\\site-packages (from requests>=2.26.0->docker) (2024.2.2)\n"
     ]
    }
   ],
   "source": [
    "!pip install docker"
   ]
  },
  {
   "cell_type": "code",
   "execution_count": 2,
   "id": "5f0679c2",
   "metadata": {},
   "outputs": [
    {
     "name": "stdout",
     "output_type": "stream",
     "text": [
      "Requirement already satisfied: clickhouse_driver in c:\\users\\nephelim\\appdata\\local\\programs\\python\\python311\\lib\\site-packages (0.2.9)\n",
      "Requirement already satisfied: pytz in c:\\users\\nephelim\\appdata\\local\\programs\\python\\python311\\lib\\site-packages (from clickhouse_driver) (2024.1)\n",
      "Requirement already satisfied: tzlocal in c:\\users\\nephelim\\appdata\\local\\programs\\python\\python311\\lib\\site-packages (from clickhouse_driver) (5.2)\n",
      "Requirement already satisfied: tzdata in c:\\users\\nephelim\\appdata\\local\\programs\\python\\python311\\lib\\site-packages (from tzlocal->clickhouse_driver) (2024.1)\n"
     ]
    }
   ],
   "source": [
    "!pip install clickhouse_driver"
   ]
  },
  {
   "cell_type": "code",
   "execution_count": 29,
   "id": "fe625436",
   "metadata": {},
   "outputs": [
    {
     "name": "stderr",
     "output_type": "stream",
     "text": [
      "docker: Error response from daemon: Conflict. The container name \"/clickhouse-server\" is already in use by container \"ce97d230bb06c2a4c94d1daf1c6165c34086803c87ef8b8dbe57e95eead8ea79\". You have to remove (or rename) that container to be able to reuse that name.\n",
      "See 'docker run --help'.\n"
     ]
    }
   ],
   "source": [
    "!docker run -d --name clickhouse-server --ulimit nofile=262144:262144 -p 9000:9000 yandex/clickhouse-server"
   ]
  },
  {
   "cell_type": "code",
   "execution_count": 28,
   "id": "7f8a5544",
   "metadata": {},
   "outputs": [
    {
     "name": "stdout",
     "output_type": "stream",
     "text": [
      "[('trips',)]\n"
     ]
    }
   ],
   "source": [
    "from clickhouse_driver import Client\n",
    "\n",
    "client = Client(host='localhost',  # Use 'localhost' or '127.0.0.1' for a local server\n",
    "                user='default',    # Default user, adjust if you've changed the user\n",
    "                password='',       # Default installation has no password for 'default' user\n",
    "                port=9000)         # Default TCP port for ClickHouse\n",
    "\n",
    "# Attempt to execute a query\n",
    "try:\n",
    "    result = client.execute('SHOW TABLES')\n",
    "    print(result)\n",
    "except Exception as e:\n",
    "    print(f\"Encountered an error: {e}\")"
   ]
  },
  {
   "cell_type": "code",
   "execution_count": 30,
   "id": "b6d5a7ee",
   "metadata": {},
   "outputs": [
    {
     "data": {
      "text/plain": [
       "[('trips',)]"
      ]
     },
     "execution_count": 30,
     "metadata": {},
     "output_type": "execute_result"
    }
   ],
   "source": [
    "client.execute('SHOW TABLES')"
   ]
  },
  {
   "cell_type": "code",
   "execution_count": 31,
   "id": "7504821b",
   "metadata": {},
   "outputs": [
    {
     "ename": "ServerException",
     "evalue": "Code: 57.\nDB::Exception: Table default.trips already exists. Stack trace:\n\n0. DB::Exception::Exception(std::__1::basic_string<char, std::__1::char_traits<char>, std::__1::allocator<char> > const&, int, bool) @ 0xa82d07a in /usr/bin/clickhouse\n1. DB::Exception::Exception<std::__1::basic_string<char, std::__1::char_traits<char>, std::__1::allocator<char> >&, std::__1::basic_string<char, std::__1::char_traits<char>, std::__1::allocator<char> >, std::__1::basic_string<char, std::__1::char_traits<char>, std::__1::allocator<char> > >(int, std::__1::basic_string<char, std::__1::char_traits<char>, std::__1::allocator<char> > const&, std::__1::basic_string<char, std::__1::char_traits<char>, std::__1::allocator<char> >&, std::__1::basic_string<char, std::__1::char_traits<char>, std::__1::allocator<char> >&&, std::__1::basic_string<char, std::__1::char_traits<char>, std::__1::allocator<char> >&&) @ 0xa6fecf3 in /usr/bin/clickhouse\n2. DB::InterpreterCreateQuery::doCreateTable(DB::ASTCreateQuery&, DB::InterpreterCreateQuery::TableProperties const&) @ 0x139d47d6 in /usr/bin/clickhouse\n3. DB::InterpreterCreateQuery::createTable(DB::ASTCreateQuery&) @ 0x139cec0d in /usr/bin/clickhouse\n4. DB::InterpreterCreateQuery::execute() @ 0x139d64ab in /usr/bin/clickhouse\n5. ? @ 0x13d1434c in /usr/bin/clickhouse\n6. DB::executeQuery(std::__1::basic_string<char, std::__1::char_traits<char>, std::__1::allocator<char> > const&, std::__1::shared_ptr<DB::Context>, bool, DB::QueryProcessingStage::Enum) @ 0x13d11e55 in /usr/bin/clickhouse\n7. DB::TCPHandler::runImpl() @ 0x147f050f in /usr/bin/clickhouse\n8. DB::TCPHandler::run() @ 0x14804259 in /usr/bin/clickhouse\n9. Poco::Net::TCPServerConnection::start() @ 0x1745e52f in /usr/bin/clickhouse\n10. Poco::Net::TCPServerDispatcher::run() @ 0x17460981 in /usr/bin/clickhouse\n11. Poco::PooledThread::run() @ 0x17611609 in /usr/bin/clickhouse\n12. Poco::ThreadImpl::runnableEntry(void*) @ 0x1760ed00 in /usr/bin/clickhouse\n13. ? @ 0x7fc82b726609 in ?\n14. __clone @ 0x7fc82b64d293 in ?\n",
     "output_type": "error",
     "traceback": [
      "\u001b[1;31m---------------------------------------------------------------------------\u001b[0m",
      "\u001b[1;31mServerException\u001b[0m                           Traceback (most recent call last)",
      "Cell \u001b[1;32mIn[31], line 1\u001b[0m\n\u001b[1;32m----> 1\u001b[0m \u001b[43mclient\u001b[49m\u001b[38;5;241;43m.\u001b[39;49m\u001b[43mexecute\u001b[49m\u001b[43m \u001b[49m\u001b[43m(\u001b[49m\n\u001b[0;32m      2\u001b[0m \u001b[38;5;124;43;03m'''\u001b[39;49;00m\n\u001b[0;32m      3\u001b[0m \u001b[38;5;124;43;03mCREATE TABLE trips\u001b[39;49;00m\n\u001b[0;32m      4\u001b[0m \u001b[38;5;124;43;03m(\u001b[39;49;00m\n\u001b[0;32m      5\u001b[0m \u001b[38;5;124;43;03m    `trip_id` UInt32,\u001b[39;49;00m\n\u001b[0;32m      6\u001b[0m \u001b[38;5;124;43;03m    `vendor_id` Enum8('1' = 1, '2' = 2, '3' = 3, '4' = 4, 'CMT' = 5, 'VTS' = 6, 'DDS' = 7, 'B02512' = 10, 'B02598' = 11, 'B02617' = 12, 'B02682' = 13, 'B02764' = 14, '' = 15),\u001b[39;49;00m\n\u001b[0;32m      7\u001b[0m \u001b[38;5;124;43;03m    `pickup_date` Date,\u001b[39;49;00m\n\u001b[0;32m      8\u001b[0m \u001b[38;5;124;43;03m    `pickup_datetime` DateTime,\u001b[39;49;00m\n\u001b[0;32m      9\u001b[0m \u001b[38;5;124;43;03m    `dropoff_date` Date,\u001b[39;49;00m\n\u001b[0;32m     10\u001b[0m \u001b[38;5;124;43;03m    `dropoff_datetime` DateTime,\u001b[39;49;00m\n\u001b[0;32m     11\u001b[0m \u001b[38;5;124;43;03m    `store_and_fwd_flag` UInt8,\u001b[39;49;00m\n\u001b[0;32m     12\u001b[0m \u001b[38;5;124;43;03m    `rate_code_id` UInt8,\u001b[39;49;00m\n\u001b[0;32m     13\u001b[0m \u001b[38;5;124;43;03m    `pickup_longitude` Float64,\u001b[39;49;00m\n\u001b[0;32m     14\u001b[0m \u001b[38;5;124;43;03m    `pickup_latitude` Float64,\u001b[39;49;00m\n\u001b[0;32m     15\u001b[0m \u001b[38;5;124;43;03m    `dropoff_longitude` Float64,\u001b[39;49;00m\n\u001b[0;32m     16\u001b[0m \u001b[38;5;124;43;03m    `dropoff_latitude` Float64,\u001b[39;49;00m\n\u001b[0;32m     17\u001b[0m \u001b[38;5;124;43;03m    `passenger_count` UInt8,\u001b[39;49;00m\n\u001b[0;32m     18\u001b[0m \u001b[38;5;124;43;03m    `trip_distance` Float64,\u001b[39;49;00m\n\u001b[0;32m     19\u001b[0m \u001b[38;5;124;43;03m    `fare_amount` Float32,\u001b[39;49;00m\n\u001b[0;32m     20\u001b[0m \u001b[38;5;124;43;03m    `extra` Float32,\u001b[39;49;00m\n\u001b[0;32m     21\u001b[0m \u001b[38;5;124;43;03m    `mta_tax` Float32,\u001b[39;49;00m\n\u001b[0;32m     22\u001b[0m \u001b[38;5;124;43;03m    `tip_amount` Float32,\u001b[39;49;00m\n\u001b[0;32m     23\u001b[0m \u001b[38;5;124;43;03m    `tolls_amount` Float32,\u001b[39;49;00m\n\u001b[0;32m     24\u001b[0m \u001b[38;5;124;43;03m    `ehail_fee` Float32,\u001b[39;49;00m\n\u001b[0;32m     25\u001b[0m \u001b[38;5;124;43;03m    `improvement_surcharge` Float32,\u001b[39;49;00m\n\u001b[0;32m     26\u001b[0m \u001b[38;5;124;43;03m    `total_amount` Float32,\u001b[39;49;00m\n\u001b[0;32m     27\u001b[0m \u001b[38;5;124;43;03m    `payment_type` Enum8('UNK' = 0, 'CSH' = 1, 'CRE' = 2, 'NOC' = 3, 'DIS' = 4),\u001b[39;49;00m\n\u001b[0;32m     28\u001b[0m \u001b[38;5;124;43;03m    `trip_type` UInt8,\u001b[39;49;00m\n\u001b[0;32m     29\u001b[0m \u001b[38;5;124;43;03m    `pickup` FixedString(25),\u001b[39;49;00m\n\u001b[0;32m     30\u001b[0m \u001b[38;5;124;43;03m    `dropoff` FixedString(25),\u001b[39;49;00m\n\u001b[0;32m     31\u001b[0m \u001b[38;5;124;43;03m    `cab_type` Enum8('yellow' = 1, 'green' = 2, 'uber' = 3),\u001b[39;49;00m\n\u001b[0;32m     32\u001b[0m \u001b[38;5;124;43;03m    `pickup_nyct2010_gid` Int8,\u001b[39;49;00m\n\u001b[0;32m     33\u001b[0m \u001b[38;5;124;43;03m    `pickup_ctlabel` Float32,\u001b[39;49;00m\n\u001b[0;32m     34\u001b[0m \u001b[38;5;124;43;03m    `pickup_borocode` Int8,\u001b[39;49;00m\n\u001b[0;32m     35\u001b[0m \u001b[38;5;124;43;03m    `pickup_ct2010` String,\u001b[39;49;00m\n\u001b[0;32m     36\u001b[0m \u001b[38;5;124;43;03m    `pickup_boroct2010` String,\u001b[39;49;00m\n\u001b[0;32m     37\u001b[0m \u001b[38;5;124;43;03m    `pickup_cdeligibil` String,\u001b[39;49;00m\n\u001b[0;32m     38\u001b[0m \u001b[38;5;124;43;03m    `pickup_ntacode` FixedString(4),\u001b[39;49;00m\n\u001b[0;32m     39\u001b[0m \u001b[38;5;124;43;03m    `pickup_ntaname` String,\u001b[39;49;00m\n\u001b[0;32m     40\u001b[0m \u001b[38;5;124;43;03m    `pickup_puma` UInt16,\u001b[39;49;00m\n\u001b[0;32m     41\u001b[0m \u001b[38;5;124;43;03m    `dropoff_nyct2010_gid` UInt8,\u001b[39;49;00m\n\u001b[0;32m     42\u001b[0m \u001b[38;5;124;43;03m    `dropoff_ctlabel` Float32,\u001b[39;49;00m\n\u001b[0;32m     43\u001b[0m \u001b[38;5;124;43;03m    `dropoff_borocode` UInt8,\u001b[39;49;00m\n\u001b[0;32m     44\u001b[0m \u001b[38;5;124;43;03m    `dropoff_ct2010` String,\u001b[39;49;00m\n\u001b[0;32m     45\u001b[0m \u001b[38;5;124;43;03m    `dropoff_boroct2010` String,\u001b[39;49;00m\n\u001b[0;32m     46\u001b[0m \u001b[38;5;124;43;03m    `dropoff_cdeligibil` String,\u001b[39;49;00m\n\u001b[0;32m     47\u001b[0m \u001b[38;5;124;43;03m    `dropoff_ntacode` FixedString(4),\u001b[39;49;00m\n\u001b[0;32m     48\u001b[0m \u001b[38;5;124;43;03m    `dropoff_ntaname` String,\u001b[39;49;00m\n\u001b[0;32m     49\u001b[0m \u001b[38;5;124;43;03m    `dropoff_puma` UInt16\u001b[39;49;00m\n\u001b[0;32m     50\u001b[0m \u001b[38;5;124;43;03m)\u001b[39;49;00m\n\u001b[0;32m     51\u001b[0m \u001b[38;5;124;43;03mENGINE = MergeTree\u001b[39;49;00m\n\u001b[0;32m     52\u001b[0m \u001b[38;5;124;43;03mPARTITION BY toYYYYMM(pickup_date)\u001b[39;49;00m\n\u001b[0;32m     53\u001b[0m \u001b[38;5;124;43;03mORDER BY pickup_datetime;\u001b[39;49;00m\n\u001b[0;32m     54\u001b[0m \u001b[38;5;124;43;03m'''\u001b[39;49;00m\n\u001b[0;32m     55\u001b[0m \u001b[43m)\u001b[49m\n",
      "File \u001b[1;32mc:\\Users\\nephelim\\AppData\\Local\\Programs\\Python\\Python311\\Lib\\site-packages\\clickhouse_driver\\client.py:382\u001b[0m, in \u001b[0;36mClient.execute\u001b[1;34m(self, query, params, with_column_types, external_tables, query_id, settings, types_check, columnar)\u001b[0m\n\u001b[0;32m    376\u001b[0m     rv \u001b[38;5;241m=\u001b[39m \u001b[38;5;28mself\u001b[39m\u001b[38;5;241m.\u001b[39mprocess_insert_query(\n\u001b[0;32m    377\u001b[0m         query, params, external_tables\u001b[38;5;241m=\u001b[39mexternal_tables,\n\u001b[0;32m    378\u001b[0m         query_id\u001b[38;5;241m=\u001b[39mquery_id, types_check\u001b[38;5;241m=\u001b[39mtypes_check,\n\u001b[0;32m    379\u001b[0m         columnar\u001b[38;5;241m=\u001b[39mcolumnar\n\u001b[0;32m    380\u001b[0m     )\n\u001b[0;32m    381\u001b[0m \u001b[38;5;28;01melse\u001b[39;00m:\n\u001b[1;32m--> 382\u001b[0m     rv \u001b[38;5;241m=\u001b[39m \u001b[38;5;28;43mself\u001b[39;49m\u001b[38;5;241;43m.\u001b[39;49m\u001b[43mprocess_ordinary_query\u001b[49m\u001b[43m(\u001b[49m\n\u001b[0;32m    383\u001b[0m \u001b[43m        \u001b[49m\u001b[43mquery\u001b[49m\u001b[43m,\u001b[49m\u001b[43m \u001b[49m\u001b[43mparams\u001b[49m\u001b[38;5;241;43m=\u001b[39;49m\u001b[43mparams\u001b[49m\u001b[43m,\u001b[49m\u001b[43m \u001b[49m\u001b[43mwith_column_types\u001b[49m\u001b[38;5;241;43m=\u001b[39;49m\u001b[43mwith_column_types\u001b[49m\u001b[43m,\u001b[49m\n\u001b[0;32m    384\u001b[0m \u001b[43m        \u001b[49m\u001b[43mexternal_tables\u001b[49m\u001b[38;5;241;43m=\u001b[39;49m\u001b[43mexternal_tables\u001b[49m\u001b[43m,\u001b[49m\n\u001b[0;32m    385\u001b[0m \u001b[43m        \u001b[49m\u001b[43mquery_id\u001b[49m\u001b[38;5;241;43m=\u001b[39;49m\u001b[43mquery_id\u001b[49m\u001b[43m,\u001b[49m\u001b[43m \u001b[49m\u001b[43mtypes_check\u001b[49m\u001b[38;5;241;43m=\u001b[39;49m\u001b[43mtypes_check\u001b[49m\u001b[43m,\u001b[49m\n\u001b[0;32m    386\u001b[0m \u001b[43m        \u001b[49m\u001b[43mcolumnar\u001b[49m\u001b[38;5;241;43m=\u001b[39;49m\u001b[43mcolumnar\u001b[49m\n\u001b[0;32m    387\u001b[0m \u001b[43m    \u001b[49m\u001b[43m)\u001b[49m\n\u001b[0;32m    388\u001b[0m \u001b[38;5;28mself\u001b[39m\u001b[38;5;241m.\u001b[39mlast_query\u001b[38;5;241m.\u001b[39mstore_elapsed(time() \u001b[38;5;241m-\u001b[39m start_time)\n\u001b[0;32m    389\u001b[0m \u001b[38;5;28;01mreturn\u001b[39;00m rv\n",
      "File \u001b[1;32mc:\\Users\\nephelim\\AppData\\Local\\Programs\\Python\\Python311\\Lib\\site-packages\\clickhouse_driver\\client.py:580\u001b[0m, in \u001b[0;36mClient.process_ordinary_query\u001b[1;34m(self, query, params, with_column_types, external_tables, query_id, types_check, columnar)\u001b[0m\n\u001b[0;32m    577\u001b[0m \u001b[38;5;28mself\u001b[39m\u001b[38;5;241m.\u001b[39mconnection\u001b[38;5;241m.\u001b[39msend_query(query, query_id\u001b[38;5;241m=\u001b[39mquery_id, params\u001b[38;5;241m=\u001b[39mparams)\n\u001b[0;32m    578\u001b[0m \u001b[38;5;28mself\u001b[39m\u001b[38;5;241m.\u001b[39mconnection\u001b[38;5;241m.\u001b[39msend_external_tables(external_tables,\n\u001b[0;32m    579\u001b[0m                                      types_check\u001b[38;5;241m=\u001b[39mtypes_check)\n\u001b[1;32m--> 580\u001b[0m \u001b[38;5;28;01mreturn\u001b[39;00m \u001b[38;5;28;43mself\u001b[39;49m\u001b[38;5;241;43m.\u001b[39;49m\u001b[43mreceive_result\u001b[49m\u001b[43m(\u001b[49m\u001b[43mwith_column_types\u001b[49m\u001b[38;5;241;43m=\u001b[39;49m\u001b[43mwith_column_types\u001b[49m\u001b[43m,\u001b[49m\n\u001b[0;32m    581\u001b[0m \u001b[43m                           \u001b[49m\u001b[43mcolumnar\u001b[49m\u001b[38;5;241;43m=\u001b[39;49m\u001b[43mcolumnar\u001b[49m\u001b[43m)\u001b[49m\n",
      "File \u001b[1;32mc:\\Users\\nephelim\\AppData\\Local\\Programs\\Python\\Python311\\Lib\\site-packages\\clickhouse_driver\\client.py:212\u001b[0m, in \u001b[0;36mClient.receive_result\u001b[1;34m(self, with_column_types, progress, columnar)\u001b[0m\n\u001b[0;32m    208\u001b[0m \u001b[38;5;28;01melse\u001b[39;00m:\n\u001b[0;32m    209\u001b[0m     result \u001b[38;5;241m=\u001b[39m \u001b[38;5;28mself\u001b[39m\u001b[38;5;241m.\u001b[39mquery_result_cls(\n\u001b[0;32m    210\u001b[0m         gen, with_column_types\u001b[38;5;241m=\u001b[39mwith_column_types, columnar\u001b[38;5;241m=\u001b[39mcolumnar\n\u001b[0;32m    211\u001b[0m     )\n\u001b[1;32m--> 212\u001b[0m     \u001b[38;5;28;01mreturn\u001b[39;00m \u001b[43mresult\u001b[49m\u001b[38;5;241;43m.\u001b[39;49m\u001b[43mget_result\u001b[49m\u001b[43m(\u001b[49m\u001b[43m)\u001b[49m\n",
      "File \u001b[1;32mc:\\Users\\nephelim\\AppData\\Local\\Programs\\Python\\Python311\\Lib\\site-packages\\clickhouse_driver\\result.py:50\u001b[0m, in \u001b[0;36mQueryResult.get_result\u001b[1;34m(self)\u001b[0m\n\u001b[0;32m     45\u001b[0m \u001b[38;5;28;01mdef\u001b[39;00m \u001b[38;5;21mget_result\u001b[39m(\u001b[38;5;28mself\u001b[39m):\n\u001b[0;32m     46\u001b[0m \u001b[38;5;250m    \u001b[39m\u001b[38;5;124;03m\"\"\"\u001b[39;00m\n\u001b[0;32m     47\u001b[0m \u001b[38;5;124;03m    :return: stored query result.\u001b[39;00m\n\u001b[0;32m     48\u001b[0m \u001b[38;5;124;03m    \"\"\"\u001b[39;00m\n\u001b[1;32m---> 50\u001b[0m \u001b[43m    \u001b[49m\u001b[38;5;28;43;01mfor\u001b[39;49;00m\u001b[43m \u001b[49m\u001b[43mpacket\u001b[49m\u001b[43m \u001b[49m\u001b[38;5;129;43;01min\u001b[39;49;00m\u001b[43m \u001b[49m\u001b[38;5;28;43mself\u001b[39;49m\u001b[38;5;241;43m.\u001b[39;49m\u001b[43mpacket_generator\u001b[49m\u001b[43m:\u001b[49m\n\u001b[0;32m     51\u001b[0m \u001b[43m        \u001b[49m\u001b[38;5;28;43mself\u001b[39;49m\u001b[38;5;241;43m.\u001b[39;49m\u001b[43mstore\u001b[49m\u001b[43m(\u001b[49m\u001b[43mpacket\u001b[49m\u001b[43m)\u001b[49m\n\u001b[0;32m     53\u001b[0m     data \u001b[38;5;241m=\u001b[39m \u001b[38;5;28mself\u001b[39m\u001b[38;5;241m.\u001b[39mdata\n",
      "File \u001b[1;32mc:\\Users\\nephelim\\AppData\\Local\\Programs\\Python\\Python311\\Lib\\site-packages\\clickhouse_driver\\client.py:228\u001b[0m, in \u001b[0;36mClient.packet_generator\u001b[1;34m(self)\u001b[0m\n\u001b[0;32m    226\u001b[0m \u001b[38;5;28;01mwhile\u001b[39;00m \u001b[38;5;28;01mTrue\u001b[39;00m:\n\u001b[0;32m    227\u001b[0m     \u001b[38;5;28;01mtry\u001b[39;00m:\n\u001b[1;32m--> 228\u001b[0m         packet \u001b[38;5;241m=\u001b[39m \u001b[38;5;28;43mself\u001b[39;49m\u001b[38;5;241;43m.\u001b[39;49m\u001b[43mreceive_packet\u001b[49m\u001b[43m(\u001b[49m\u001b[43m)\u001b[49m\n\u001b[0;32m    229\u001b[0m         \u001b[38;5;28;01mif\u001b[39;00m \u001b[38;5;129;01mnot\u001b[39;00m packet:\n\u001b[0;32m    230\u001b[0m             \u001b[38;5;28;01mbreak\u001b[39;00m\n",
      "File \u001b[1;32mc:\\Users\\nephelim\\AppData\\Local\\Programs\\Python\\Python311\\Lib\\site-packages\\clickhouse_driver\\client.py:245\u001b[0m, in \u001b[0;36mClient.receive_packet\u001b[1;34m(self)\u001b[0m\n\u001b[0;32m    242\u001b[0m packet \u001b[38;5;241m=\u001b[39m \u001b[38;5;28mself\u001b[39m\u001b[38;5;241m.\u001b[39mconnection\u001b[38;5;241m.\u001b[39mreceive_packet()\n\u001b[0;32m    244\u001b[0m \u001b[38;5;28;01mif\u001b[39;00m packet\u001b[38;5;241m.\u001b[39mtype \u001b[38;5;241m==\u001b[39m ServerPacketTypes\u001b[38;5;241m.\u001b[39mEXCEPTION:\n\u001b[1;32m--> 245\u001b[0m     \u001b[38;5;28;01mraise\u001b[39;00m packet\u001b[38;5;241m.\u001b[39mexception\n\u001b[0;32m    247\u001b[0m \u001b[38;5;28;01melif\u001b[39;00m packet\u001b[38;5;241m.\u001b[39mtype \u001b[38;5;241m==\u001b[39m ServerPacketTypes\u001b[38;5;241m.\u001b[39mPROGRESS:\n\u001b[0;32m    248\u001b[0m     \u001b[38;5;28mself\u001b[39m\u001b[38;5;241m.\u001b[39mlast_query\u001b[38;5;241m.\u001b[39mstore_progress(packet\u001b[38;5;241m.\u001b[39mprogress)\n",
      "\u001b[1;31mServerException\u001b[0m: Code: 57.\nDB::Exception: Table default.trips already exists. Stack trace:\n\n0. DB::Exception::Exception(std::__1::basic_string<char, std::__1::char_traits<char>, std::__1::allocator<char> > const&, int, bool) @ 0xa82d07a in /usr/bin/clickhouse\n1. DB::Exception::Exception<std::__1::basic_string<char, std::__1::char_traits<char>, std::__1::allocator<char> >&, std::__1::basic_string<char, std::__1::char_traits<char>, std::__1::allocator<char> >, std::__1::basic_string<char, std::__1::char_traits<char>, std::__1::allocator<char> > >(int, std::__1::basic_string<char, std::__1::char_traits<char>, std::__1::allocator<char> > const&, std::__1::basic_string<char, std::__1::char_traits<char>, std::__1::allocator<char> >&, std::__1::basic_string<char, std::__1::char_traits<char>, std::__1::allocator<char> >&&, std::__1::basic_string<char, std::__1::char_traits<char>, std::__1::allocator<char> >&&) @ 0xa6fecf3 in /usr/bin/clickhouse\n2. DB::InterpreterCreateQuery::doCreateTable(DB::ASTCreateQuery&, DB::InterpreterCreateQuery::TableProperties const&) @ 0x139d47d6 in /usr/bin/clickhouse\n3. DB::InterpreterCreateQuery::createTable(DB::ASTCreateQuery&) @ 0x139cec0d in /usr/bin/clickhouse\n4. DB::InterpreterCreateQuery::execute() @ 0x139d64ab in /usr/bin/clickhouse\n5. ? @ 0x13d1434c in /usr/bin/clickhouse\n6. DB::executeQuery(std::__1::basic_string<char, std::__1::char_traits<char>, std::__1::allocator<char> > const&, std::__1::shared_ptr<DB::Context>, bool, DB::QueryProcessingStage::Enum) @ 0x13d11e55 in /usr/bin/clickhouse\n7. DB::TCPHandler::runImpl() @ 0x147f050f in /usr/bin/clickhouse\n8. DB::TCPHandler::run() @ 0x14804259 in /usr/bin/clickhouse\n9. Poco::Net::TCPServerConnection::start() @ 0x1745e52f in /usr/bin/clickhouse\n10. Poco::Net::TCPServerDispatcher::run() @ 0x17460981 in /usr/bin/clickhouse\n11. Poco::PooledThread::run() @ 0x17611609 in /usr/bin/clickhouse\n12. Poco::ThreadImpl::runnableEntry(void*) @ 0x1760ed00 in /usr/bin/clickhouse\n13. ? @ 0x7fc82b726609 in ?\n14. __clone @ 0x7fc82b64d293 in ?\n"
     ]
    }
   ],
   "source": [
    "client.execute (\n",
    "'''\n",
    "CREATE TABLE trips\n",
    "(\n",
    "    `trip_id` UInt32,\n",
    "    `vendor_id` Enum8('1' = 1, '2' = 2, '3' = 3, '4' = 4, 'CMT' = 5, 'VTS' = 6, 'DDS' = 7, 'B02512' = 10, 'B02598' = 11, 'B02617' = 12, 'B02682' = 13, 'B02764' = 14, '' = 15),\n",
    "    `pickup_date` Date,\n",
    "    `pickup_datetime` DateTime,\n",
    "    `dropoff_date` Date,\n",
    "    `dropoff_datetime` DateTime,\n",
    "    `store_and_fwd_flag` UInt8,\n",
    "    `rate_code_id` UInt8,\n",
    "    `pickup_longitude` Float64,\n",
    "    `pickup_latitude` Float64,\n",
    "    `dropoff_longitude` Float64,\n",
    "    `dropoff_latitude` Float64,\n",
    "    `passenger_count` UInt8,\n",
    "    `trip_distance` Float64,\n",
    "    `fare_amount` Float32,\n",
    "    `extra` Float32,\n",
    "    `mta_tax` Float32,\n",
    "    `tip_amount` Float32,\n",
    "    `tolls_amount` Float32,\n",
    "    `ehail_fee` Float32,\n",
    "    `improvement_surcharge` Float32,\n",
    "    `total_amount` Float32,\n",
    "    `payment_type` Enum8('UNK' = 0, 'CSH' = 1, 'CRE' = 2, 'NOC' = 3, 'DIS' = 4),\n",
    "    `trip_type` UInt8,\n",
    "    `pickup` FixedString(25),\n",
    "    `dropoff` FixedString(25),\n",
    "    `cab_type` Enum8('yellow' = 1, 'green' = 2, 'uber' = 3),\n",
    "    `pickup_nyct2010_gid` Int8,\n",
    "    `pickup_ctlabel` Float32,\n",
    "    `pickup_borocode` Int8,\n",
    "    `pickup_ct2010` String,\n",
    "    `pickup_boroct2010` String,\n",
    "    `pickup_cdeligibil` String,\n",
    "    `pickup_ntacode` FixedString(4),\n",
    "    `pickup_ntaname` String,\n",
    "    `pickup_puma` UInt16,\n",
    "    `dropoff_nyct2010_gid` UInt8,\n",
    "    `dropoff_ctlabel` Float32,\n",
    "    `dropoff_borocode` UInt8,\n",
    "    `dropoff_ct2010` String,\n",
    "    `dropoff_boroct2010` String,\n",
    "    `dropoff_cdeligibil` String,\n",
    "    `dropoff_ntacode` FixedString(4),\n",
    "    `dropoff_ntaname` String,\n",
    "    `dropoff_puma` UInt16\n",
    ")\n",
    "ENGINE = MergeTree\n",
    "PARTITION BY toYYYYMM(pickup_date)\n",
    "ORDER BY pickup_datetime;\n",
    "'''\n",
    ")"
   ]
  },
  {
   "cell_type": "code",
   "execution_count": 32,
   "id": "96ba8f84",
   "metadata": {},
   "outputs": [
    {
     "data": {
      "text/plain": [
       "[('trips',)]"
      ]
     },
     "execution_count": 32,
     "metadata": {},
     "output_type": "execute_result"
    }
   ],
   "source": [
    "client.execute('SHOW TABLES')"
   ]
  },
  {
   "cell_type": "code",
   "execution_count": 33,
   "id": "a6f0f55e",
   "metadata": {},
   "outputs": [
    {
     "ename": "ServerException",
     "evalue": "Code: 499.\nDB::Exception: Could not list objects in bucket 'datasets-documentation' with prefix 'nyc-taxi/trips_', S3 exception: ``, message: 'Poco::Exception. Code: 1000, e.code() = 0, Host not found: datasets-documentation.s3.eu-west-3.amazonaws.com (version 22.1.3.7 (official build))'. Stack trace:\n\n0. DB::Exception::Exception(std::__1::basic_string<char, std::__1::char_traits<char>, std::__1::allocator<char> > const&, int, bool) @ 0xa82d07a in /usr/bin/clickhouse\n1. DB::Exception::Exception<std::__1::basic_string<char, std::__1::char_traits<char>, std::__1::allocator<char> >, std::__1::basic_string<char, std::__1::char_traits<char>, std::__1::allocator<char> >, std::__1::basic_string<char, std::__1::char_traits<char>, std::__1::allocator<char> >, std::__1::basic_string<char, std::__1::char_traits<char>, std::__1::allocator<char> > >(int, std::__1::basic_string<char, std::__1::char_traits<char>, std::__1::allocator<char> > const&, std::__1::basic_string<char, std::__1::char_traits<char>, std::__1::allocator<char> >&&, std::__1::basic_string<char, std::__1::char_traits<char>, std::__1::allocator<char> >&&, std::__1::basic_string<char, std::__1::char_traits<char>, std::__1::allocator<char> >&&, std::__1::basic_string<char, std::__1::char_traits<char>, std::__1::allocator<char> >&&) @ 0x14082653 in /usr/bin/clickhouse\n2. DB::StorageS3Source::DisclosedGlobIterator::Impl::fillInternalBufferAssumeLocked() @ 0x140823bd in /usr/bin/clickhouse\n3. DB::StorageS3Source::DisclosedGlobIterator::Impl::Impl(Aws::S3::S3Client&, DB::S3::URI const&) @ 0x14083350 in /usr/bin/clickhouse\n4. DB::StorageS3::createFileIterator(DB::StorageS3::ClientAuthentication const&, bool, std::__1::shared_ptr<DB::Context const>) @ 0x1407e35e in /usr/bin/clickhouse\n5. DB::StorageS3::read(std::__1::vector<std::__1::basic_string<char, std::__1::char_traits<char>, std::__1::allocator<char> >, std::__1::allocator<std::__1::basic_string<char, std::__1::char_traits<char>, std::__1::allocator<char> > > > const&, std::__1::shared_ptr<DB::StorageInMemoryMetadata const> const&, DB::SelectQueryInfo&, std::__1::shared_ptr<DB::Context const>, DB::QueryProcessingStage::Enum, unsigned long, unsigned int) @ 0x1407e94e in /usr/bin/clickhouse\n6. DB::IStorage::read(DB::QueryPlan&, std::__1::vector<std::__1::basic_string<char, std::__1::char_traits<char>, std::__1::allocator<char> >, std::__1::allocator<std::__1::basic_string<char, std::__1::char_traits<char>, std::__1::allocator<char> > > > const&, std::__1::shared_ptr<DB::StorageInMemoryMetadata const> const&, DB::SelectQueryInfo&, std::__1::shared_ptr<DB::Context const>, DB::QueryProcessingStage::Enum, unsigned long, unsigned int) @ 0x13e8a3d2 in /usr/bin/clickhouse\n7. DB::InterpreterSelectQuery::executeFetchColumns(DB::QueryProcessingStage::Enum, DB::QueryPlan&) @ 0x13a783ba in /usr/bin/clickhouse\n8. DB::InterpreterSelectQuery::executeImpl(DB::QueryPlan&, std::__1::optional<DB::Pipe>) @ 0x13a70454 in /usr/bin/clickhouse\n9. DB::InterpreterSelectQuery::buildQueryPlan(DB::QueryPlan&) @ 0x13a6ff90 in /usr/bin/clickhouse\n10. DB::InterpreterSelectWithUnionQuery::buildQueryPlan(DB::QueryPlan&) @ 0x13abfc03 in /usr/bin/clickhouse\n11. DB::IInterpreterUnionOrSelectQuery::buildQueryPipeline() @ 0x13a50d53 in /usr/bin/clickhouse\n12. DB::InterpreterInsertQuery::execute() @ 0x13a4c8c4 in /usr/bin/clickhouse\n13. ? @ 0x13d1434c in /usr/bin/clickhouse\n14. DB::executeQuery(std::__1::basic_string<char, std::__1::char_traits<char>, std::__1::allocator<char> > const&, std::__1::shared_ptr<DB::Context>, bool, DB::QueryProcessingStage::Enum) @ 0x13d11e55 in /usr/bin/clickhouse\n15. DB::TCPHandler::runImpl() @ 0x147f050f in /usr/bin/clickhouse\n16. DB::TCPHandler::run() @ 0x14804259 in /usr/bin/clickhouse\n17. Poco::Net::TCPServerConnection::start() @ 0x1745e52f in /usr/bin/clickhouse\n18. Poco::Net::TCPServerDispatcher::run() @ 0x17460981 in /usr/bin/clickhouse\n19. Poco::PooledThread::run() @ 0x17611609 in /usr/bin/clickhouse\n20. Poco::ThreadImpl::runnableEntry(void*) @ 0x1760ed00 in /usr/bin/clickhouse\n21. ? @ 0x7fc82b726609 in ?\n22. __clone @ 0x7fc82b64d293 in ?\n",
     "output_type": "error",
     "traceback": [
      "\u001b[1;31m---------------------------------------------------------------------------\u001b[0m",
      "\u001b[1;31mServerException\u001b[0m                           Traceback (most recent call last)",
      "Cell \u001b[1;32mIn[33], line 1\u001b[0m\n\u001b[1;32m----> 1\u001b[0m \u001b[43mclient\u001b[49m\u001b[38;5;241;43m.\u001b[39;49m\u001b[43mexecute\u001b[49m\u001b[43m(\u001b[49m\n\u001b[0;32m      2\u001b[0m \u001b[38;5;124;43;03m'''\u001b[39;49;00m\n\u001b[0;32m      3\u001b[0m \u001b[38;5;124;43;03mINSERT INTO trips\u001b[39;49;00m\n\u001b[0;32m      4\u001b[0m \u001b[38;5;124;43;03mSELECT * FROM s3(\u001b[39;49;00m\n\u001b[0;32m      5\u001b[0m \u001b[38;5;124;43;03m    'https://datasets-documentation.s3.eu-west-3.amazonaws.com/nyc-taxi/trips_{1..2}.gz',\u001b[39;49;00m\n\u001b[0;32m      6\u001b[0m \u001b[38;5;124;43;03m    'TabSeparatedWithNames', \"\u001b[39;49;00m\n\u001b[0;32m      7\u001b[0m \u001b[38;5;124;43;03m    `trip_id` UInt32,\u001b[39;49;00m\n\u001b[0;32m      8\u001b[0m \u001b[38;5;124;43;03m    `vendor_id` Enum8('1' = 1, '2' = 2, '3' = 3, '4' = 4, 'CMT' = 5, 'VTS' = 6, 'DDS' = 7, 'B02512' = 10, 'B02598' = 11, 'B02617' = 12, 'B02682' = 13, 'B02764' = 14, '' = 15),\u001b[39;49;00m\n\u001b[0;32m      9\u001b[0m \u001b[38;5;124;43;03m    `pickup_date` Date,\u001b[39;49;00m\n\u001b[0;32m     10\u001b[0m \u001b[38;5;124;43;03m    `pickup_datetime` DateTime,\u001b[39;49;00m\n\u001b[0;32m     11\u001b[0m \u001b[38;5;124;43;03m    `dropoff_date` Date,\u001b[39;49;00m\n\u001b[0;32m     12\u001b[0m \u001b[38;5;124;43;03m    `dropoff_datetime` DateTime,\u001b[39;49;00m\n\u001b[0;32m     13\u001b[0m \u001b[38;5;124;43;03m    `store_and_fwd_flag` UInt8,\u001b[39;49;00m\n\u001b[0;32m     14\u001b[0m \u001b[38;5;124;43;03m    `rate_code_id` UInt8,\u001b[39;49;00m\n\u001b[0;32m     15\u001b[0m \u001b[38;5;124;43;03m    `pickup_longitude` Float64,\u001b[39;49;00m\n\u001b[0;32m     16\u001b[0m \u001b[38;5;124;43;03m    `pickup_latitude` Float64,\u001b[39;49;00m\n\u001b[0;32m     17\u001b[0m \u001b[38;5;124;43;03m    `dropoff_longitude` Float64,\u001b[39;49;00m\n\u001b[0;32m     18\u001b[0m \u001b[38;5;124;43;03m    `dropoff_latitude` Float64,\u001b[39;49;00m\n\u001b[0;32m     19\u001b[0m \u001b[38;5;124;43;03m    `passenger_count` UInt8,\u001b[39;49;00m\n\u001b[0;32m     20\u001b[0m \u001b[38;5;124;43;03m    `trip_distance` Float64,\u001b[39;49;00m\n\u001b[0;32m     21\u001b[0m \u001b[38;5;124;43;03m    `fare_amount` Float32,\u001b[39;49;00m\n\u001b[0;32m     22\u001b[0m \u001b[38;5;124;43;03m    `extra` Float32,\u001b[39;49;00m\n\u001b[0;32m     23\u001b[0m \u001b[38;5;124;43;03m    `mta_tax` Float32,\u001b[39;49;00m\n\u001b[0;32m     24\u001b[0m \u001b[38;5;124;43;03m    `tip_amount` Float32,\u001b[39;49;00m\n\u001b[0;32m     25\u001b[0m \u001b[38;5;124;43;03m    `tolls_amount` Float32,\u001b[39;49;00m\n\u001b[0;32m     26\u001b[0m \u001b[38;5;124;43;03m    `ehail_fee` Float32,\u001b[39;49;00m\n\u001b[0;32m     27\u001b[0m \u001b[38;5;124;43;03m    `improvement_surcharge` Float32,\u001b[39;49;00m\n\u001b[0;32m     28\u001b[0m \u001b[38;5;124;43;03m    `total_amount` Float32,\u001b[39;49;00m\n\u001b[0;32m     29\u001b[0m \u001b[38;5;124;43;03m    `payment_type` Enum8('UNK' = 0, 'CSH' = 1, 'CRE' = 2, 'NOC' = 3, 'DIS' = 4),\u001b[39;49;00m\n\u001b[0;32m     30\u001b[0m \u001b[38;5;124;43;03m    `trip_type` UInt8,\u001b[39;49;00m\n\u001b[0;32m     31\u001b[0m \u001b[38;5;124;43;03m    `pickup` FixedString(25),\u001b[39;49;00m\n\u001b[0;32m     32\u001b[0m \u001b[38;5;124;43;03m    `dropoff` FixedString(25),\u001b[39;49;00m\n\u001b[0;32m     33\u001b[0m \u001b[38;5;124;43;03m    `cab_type` Enum8('yellow' = 1, 'green' = 2, 'uber' = 3),\u001b[39;49;00m\n\u001b[0;32m     34\u001b[0m \u001b[38;5;124;43;03m    `pickup_nyct2010_gid` Int8,\u001b[39;49;00m\n\u001b[0;32m     35\u001b[0m \u001b[38;5;124;43;03m    `pickup_ctlabel` Float32,\u001b[39;49;00m\n\u001b[0;32m     36\u001b[0m \u001b[38;5;124;43;03m    `pickup_borocode` Int8,\u001b[39;49;00m\n\u001b[0;32m     37\u001b[0m \u001b[38;5;124;43;03m    `pickup_ct2010` String,\u001b[39;49;00m\n\u001b[0;32m     38\u001b[0m \u001b[38;5;124;43;03m    `pickup_boroct2010` String,\u001b[39;49;00m\n\u001b[0;32m     39\u001b[0m \u001b[38;5;124;43;03m    `pickup_cdeligibil` String,\u001b[39;49;00m\n\u001b[0;32m     40\u001b[0m \u001b[38;5;124;43;03m    `pickup_ntacode` FixedString(4),\u001b[39;49;00m\n\u001b[0;32m     41\u001b[0m \u001b[38;5;124;43;03m    `pickup_ntaname` String,\u001b[39;49;00m\n\u001b[0;32m     42\u001b[0m \u001b[38;5;124;43;03m    `pickup_puma` UInt16,\u001b[39;49;00m\n\u001b[0;32m     43\u001b[0m \u001b[38;5;124;43;03m    `dropoff_nyct2010_gid` UInt8,\u001b[39;49;00m\n\u001b[0;32m     44\u001b[0m \u001b[38;5;124;43;03m    `dropoff_ctlabel` Float32,\u001b[39;49;00m\n\u001b[0;32m     45\u001b[0m \u001b[38;5;124;43;03m    `dropoff_borocode` UInt8,\u001b[39;49;00m\n\u001b[0;32m     46\u001b[0m \u001b[38;5;124;43;03m    `dropoff_ct2010` String,\u001b[39;49;00m\n\u001b[0;32m     47\u001b[0m \u001b[38;5;124;43;03m    `dropoff_boroct2010` String,\u001b[39;49;00m\n\u001b[0;32m     48\u001b[0m \u001b[38;5;124;43;03m    `dropoff_cdeligibil` String,\u001b[39;49;00m\n\u001b[0;32m     49\u001b[0m \u001b[38;5;124;43;03m    `dropoff_ntacode` FixedString(4),\u001b[39;49;00m\n\u001b[0;32m     50\u001b[0m \u001b[38;5;124;43;03m    `dropoff_ntaname` String,\u001b[39;49;00m\n\u001b[0;32m     51\u001b[0m \u001b[38;5;124;43;03m    `dropoff_puma` UInt16\u001b[39;49;00m\n\u001b[0;32m     52\u001b[0m \u001b[38;5;124;43;03m\")\u001b[39;49;00m\n\u001b[0;32m     53\u001b[0m \u001b[38;5;124;43;03m'''\u001b[39;49;00m\n\u001b[0;32m     54\u001b[0m \u001b[43m)\u001b[49m\n",
      "File \u001b[1;32mc:\\Users\\nephelim\\AppData\\Local\\Programs\\Python\\Python311\\Lib\\site-packages\\clickhouse_driver\\client.py:382\u001b[0m, in \u001b[0;36mClient.execute\u001b[1;34m(self, query, params, with_column_types, external_tables, query_id, settings, types_check, columnar)\u001b[0m\n\u001b[0;32m    376\u001b[0m     rv \u001b[38;5;241m=\u001b[39m \u001b[38;5;28mself\u001b[39m\u001b[38;5;241m.\u001b[39mprocess_insert_query(\n\u001b[0;32m    377\u001b[0m         query, params, external_tables\u001b[38;5;241m=\u001b[39mexternal_tables,\n\u001b[0;32m    378\u001b[0m         query_id\u001b[38;5;241m=\u001b[39mquery_id, types_check\u001b[38;5;241m=\u001b[39mtypes_check,\n\u001b[0;32m    379\u001b[0m         columnar\u001b[38;5;241m=\u001b[39mcolumnar\n\u001b[0;32m    380\u001b[0m     )\n\u001b[0;32m    381\u001b[0m \u001b[38;5;28;01melse\u001b[39;00m:\n\u001b[1;32m--> 382\u001b[0m     rv \u001b[38;5;241m=\u001b[39m \u001b[38;5;28;43mself\u001b[39;49m\u001b[38;5;241;43m.\u001b[39;49m\u001b[43mprocess_ordinary_query\u001b[49m\u001b[43m(\u001b[49m\n\u001b[0;32m    383\u001b[0m \u001b[43m        \u001b[49m\u001b[43mquery\u001b[49m\u001b[43m,\u001b[49m\u001b[43m \u001b[49m\u001b[43mparams\u001b[49m\u001b[38;5;241;43m=\u001b[39;49m\u001b[43mparams\u001b[49m\u001b[43m,\u001b[49m\u001b[43m \u001b[49m\u001b[43mwith_column_types\u001b[49m\u001b[38;5;241;43m=\u001b[39;49m\u001b[43mwith_column_types\u001b[49m\u001b[43m,\u001b[49m\n\u001b[0;32m    384\u001b[0m \u001b[43m        \u001b[49m\u001b[43mexternal_tables\u001b[49m\u001b[38;5;241;43m=\u001b[39;49m\u001b[43mexternal_tables\u001b[49m\u001b[43m,\u001b[49m\n\u001b[0;32m    385\u001b[0m \u001b[43m        \u001b[49m\u001b[43mquery_id\u001b[49m\u001b[38;5;241;43m=\u001b[39;49m\u001b[43mquery_id\u001b[49m\u001b[43m,\u001b[49m\u001b[43m \u001b[49m\u001b[43mtypes_check\u001b[49m\u001b[38;5;241;43m=\u001b[39;49m\u001b[43mtypes_check\u001b[49m\u001b[43m,\u001b[49m\n\u001b[0;32m    386\u001b[0m \u001b[43m        \u001b[49m\u001b[43mcolumnar\u001b[49m\u001b[38;5;241;43m=\u001b[39;49m\u001b[43mcolumnar\u001b[49m\n\u001b[0;32m    387\u001b[0m \u001b[43m    \u001b[49m\u001b[43m)\u001b[49m\n\u001b[0;32m    388\u001b[0m \u001b[38;5;28mself\u001b[39m\u001b[38;5;241m.\u001b[39mlast_query\u001b[38;5;241m.\u001b[39mstore_elapsed(time() \u001b[38;5;241m-\u001b[39m start_time)\n\u001b[0;32m    389\u001b[0m \u001b[38;5;28;01mreturn\u001b[39;00m rv\n",
      "File \u001b[1;32mc:\\Users\\nephelim\\AppData\\Local\\Programs\\Python\\Python311\\Lib\\site-packages\\clickhouse_driver\\client.py:580\u001b[0m, in \u001b[0;36mClient.process_ordinary_query\u001b[1;34m(self, query, params, with_column_types, external_tables, query_id, types_check, columnar)\u001b[0m\n\u001b[0;32m    577\u001b[0m \u001b[38;5;28mself\u001b[39m\u001b[38;5;241m.\u001b[39mconnection\u001b[38;5;241m.\u001b[39msend_query(query, query_id\u001b[38;5;241m=\u001b[39mquery_id, params\u001b[38;5;241m=\u001b[39mparams)\n\u001b[0;32m    578\u001b[0m \u001b[38;5;28mself\u001b[39m\u001b[38;5;241m.\u001b[39mconnection\u001b[38;5;241m.\u001b[39msend_external_tables(external_tables,\n\u001b[0;32m    579\u001b[0m                                      types_check\u001b[38;5;241m=\u001b[39mtypes_check)\n\u001b[1;32m--> 580\u001b[0m \u001b[38;5;28;01mreturn\u001b[39;00m \u001b[38;5;28;43mself\u001b[39;49m\u001b[38;5;241;43m.\u001b[39;49m\u001b[43mreceive_result\u001b[49m\u001b[43m(\u001b[49m\u001b[43mwith_column_types\u001b[49m\u001b[38;5;241;43m=\u001b[39;49m\u001b[43mwith_column_types\u001b[49m\u001b[43m,\u001b[49m\n\u001b[0;32m    581\u001b[0m \u001b[43m                           \u001b[49m\u001b[43mcolumnar\u001b[49m\u001b[38;5;241;43m=\u001b[39;49m\u001b[43mcolumnar\u001b[49m\u001b[43m)\u001b[49m\n",
      "File \u001b[1;32mc:\\Users\\nephelim\\AppData\\Local\\Programs\\Python\\Python311\\Lib\\site-packages\\clickhouse_driver\\client.py:212\u001b[0m, in \u001b[0;36mClient.receive_result\u001b[1;34m(self, with_column_types, progress, columnar)\u001b[0m\n\u001b[0;32m    208\u001b[0m \u001b[38;5;28;01melse\u001b[39;00m:\n\u001b[0;32m    209\u001b[0m     result \u001b[38;5;241m=\u001b[39m \u001b[38;5;28mself\u001b[39m\u001b[38;5;241m.\u001b[39mquery_result_cls(\n\u001b[0;32m    210\u001b[0m         gen, with_column_types\u001b[38;5;241m=\u001b[39mwith_column_types, columnar\u001b[38;5;241m=\u001b[39mcolumnar\n\u001b[0;32m    211\u001b[0m     )\n\u001b[1;32m--> 212\u001b[0m     \u001b[38;5;28;01mreturn\u001b[39;00m \u001b[43mresult\u001b[49m\u001b[38;5;241;43m.\u001b[39;49m\u001b[43mget_result\u001b[49m\u001b[43m(\u001b[49m\u001b[43m)\u001b[49m\n",
      "File \u001b[1;32mc:\\Users\\nephelim\\AppData\\Local\\Programs\\Python\\Python311\\Lib\\site-packages\\clickhouse_driver\\result.py:50\u001b[0m, in \u001b[0;36mQueryResult.get_result\u001b[1;34m(self)\u001b[0m\n\u001b[0;32m     45\u001b[0m \u001b[38;5;28;01mdef\u001b[39;00m \u001b[38;5;21mget_result\u001b[39m(\u001b[38;5;28mself\u001b[39m):\n\u001b[0;32m     46\u001b[0m \u001b[38;5;250m    \u001b[39m\u001b[38;5;124;03m\"\"\"\u001b[39;00m\n\u001b[0;32m     47\u001b[0m \u001b[38;5;124;03m    :return: stored query result.\u001b[39;00m\n\u001b[0;32m     48\u001b[0m \u001b[38;5;124;03m    \"\"\"\u001b[39;00m\n\u001b[1;32m---> 50\u001b[0m \u001b[43m    \u001b[49m\u001b[38;5;28;43;01mfor\u001b[39;49;00m\u001b[43m \u001b[49m\u001b[43mpacket\u001b[49m\u001b[43m \u001b[49m\u001b[38;5;129;43;01min\u001b[39;49;00m\u001b[43m \u001b[49m\u001b[38;5;28;43mself\u001b[39;49m\u001b[38;5;241;43m.\u001b[39;49m\u001b[43mpacket_generator\u001b[49m\u001b[43m:\u001b[49m\n\u001b[0;32m     51\u001b[0m \u001b[43m        \u001b[49m\u001b[38;5;28;43mself\u001b[39;49m\u001b[38;5;241;43m.\u001b[39;49m\u001b[43mstore\u001b[49m\u001b[43m(\u001b[49m\u001b[43mpacket\u001b[49m\u001b[43m)\u001b[49m\n\u001b[0;32m     53\u001b[0m     data \u001b[38;5;241m=\u001b[39m \u001b[38;5;28mself\u001b[39m\u001b[38;5;241m.\u001b[39mdata\n",
      "File \u001b[1;32mc:\\Users\\nephelim\\AppData\\Local\\Programs\\Python\\Python311\\Lib\\site-packages\\clickhouse_driver\\client.py:228\u001b[0m, in \u001b[0;36mClient.packet_generator\u001b[1;34m(self)\u001b[0m\n\u001b[0;32m    226\u001b[0m \u001b[38;5;28;01mwhile\u001b[39;00m \u001b[38;5;28;01mTrue\u001b[39;00m:\n\u001b[0;32m    227\u001b[0m     \u001b[38;5;28;01mtry\u001b[39;00m:\n\u001b[1;32m--> 228\u001b[0m         packet \u001b[38;5;241m=\u001b[39m \u001b[38;5;28;43mself\u001b[39;49m\u001b[38;5;241;43m.\u001b[39;49m\u001b[43mreceive_packet\u001b[49m\u001b[43m(\u001b[49m\u001b[43m)\u001b[49m\n\u001b[0;32m    229\u001b[0m         \u001b[38;5;28;01mif\u001b[39;00m \u001b[38;5;129;01mnot\u001b[39;00m packet:\n\u001b[0;32m    230\u001b[0m             \u001b[38;5;28;01mbreak\u001b[39;00m\n",
      "File \u001b[1;32mc:\\Users\\nephelim\\AppData\\Local\\Programs\\Python\\Python311\\Lib\\site-packages\\clickhouse_driver\\client.py:245\u001b[0m, in \u001b[0;36mClient.receive_packet\u001b[1;34m(self)\u001b[0m\n\u001b[0;32m    242\u001b[0m packet \u001b[38;5;241m=\u001b[39m \u001b[38;5;28mself\u001b[39m\u001b[38;5;241m.\u001b[39mconnection\u001b[38;5;241m.\u001b[39mreceive_packet()\n\u001b[0;32m    244\u001b[0m \u001b[38;5;28;01mif\u001b[39;00m packet\u001b[38;5;241m.\u001b[39mtype \u001b[38;5;241m==\u001b[39m ServerPacketTypes\u001b[38;5;241m.\u001b[39mEXCEPTION:\n\u001b[1;32m--> 245\u001b[0m     \u001b[38;5;28;01mraise\u001b[39;00m packet\u001b[38;5;241m.\u001b[39mexception\n\u001b[0;32m    247\u001b[0m \u001b[38;5;28;01melif\u001b[39;00m packet\u001b[38;5;241m.\u001b[39mtype \u001b[38;5;241m==\u001b[39m ServerPacketTypes\u001b[38;5;241m.\u001b[39mPROGRESS:\n\u001b[0;32m    248\u001b[0m     \u001b[38;5;28mself\u001b[39m\u001b[38;5;241m.\u001b[39mlast_query\u001b[38;5;241m.\u001b[39mstore_progress(packet\u001b[38;5;241m.\u001b[39mprogress)\n",
      "\u001b[1;31mServerException\u001b[0m: Code: 499.\nDB::Exception: Could not list objects in bucket 'datasets-documentation' with prefix 'nyc-taxi/trips_', S3 exception: ``, message: 'Poco::Exception. Code: 1000, e.code() = 0, Host not found: datasets-documentation.s3.eu-west-3.amazonaws.com (version 22.1.3.7 (official build))'. Stack trace:\n\n0. DB::Exception::Exception(std::__1::basic_string<char, std::__1::char_traits<char>, std::__1::allocator<char> > const&, int, bool) @ 0xa82d07a in /usr/bin/clickhouse\n1. DB::Exception::Exception<std::__1::basic_string<char, std::__1::char_traits<char>, std::__1::allocator<char> >, std::__1::basic_string<char, std::__1::char_traits<char>, std::__1::allocator<char> >, std::__1::basic_string<char, std::__1::char_traits<char>, std::__1::allocator<char> >, std::__1::basic_string<char, std::__1::char_traits<char>, std::__1::allocator<char> > >(int, std::__1::basic_string<char, std::__1::char_traits<char>, std::__1::allocator<char> > const&, std::__1::basic_string<char, std::__1::char_traits<char>, std::__1::allocator<char> >&&, std::__1::basic_string<char, std::__1::char_traits<char>, std::__1::allocator<char> >&&, std::__1::basic_string<char, std::__1::char_traits<char>, std::__1::allocator<char> >&&, std::__1::basic_string<char, std::__1::char_traits<char>, std::__1::allocator<char> >&&) @ 0x14082653 in /usr/bin/clickhouse\n2. DB::StorageS3Source::DisclosedGlobIterator::Impl::fillInternalBufferAssumeLocked() @ 0x140823bd in /usr/bin/clickhouse\n3. DB::StorageS3Source::DisclosedGlobIterator::Impl::Impl(Aws::S3::S3Client&, DB::S3::URI const&) @ 0x14083350 in /usr/bin/clickhouse\n4. DB::StorageS3::createFileIterator(DB::StorageS3::ClientAuthentication const&, bool, std::__1::shared_ptr<DB::Context const>) @ 0x1407e35e in /usr/bin/clickhouse\n5. DB::StorageS3::read(std::__1::vector<std::__1::basic_string<char, std::__1::char_traits<char>, std::__1::allocator<char> >, std::__1::allocator<std::__1::basic_string<char, std::__1::char_traits<char>, std::__1::allocator<char> > > > const&, std::__1::shared_ptr<DB::StorageInMemoryMetadata const> const&, DB::SelectQueryInfo&, std::__1::shared_ptr<DB::Context const>, DB::QueryProcessingStage::Enum, unsigned long, unsigned int) @ 0x1407e94e in /usr/bin/clickhouse\n6. DB::IStorage::read(DB::QueryPlan&, std::__1::vector<std::__1::basic_string<char, std::__1::char_traits<char>, std::__1::allocator<char> >, std::__1::allocator<std::__1::basic_string<char, std::__1::char_traits<char>, std::__1::allocator<char> > > > const&, std::__1::shared_ptr<DB::StorageInMemoryMetadata const> const&, DB::SelectQueryInfo&, std::__1::shared_ptr<DB::Context const>, DB::QueryProcessingStage::Enum, unsigned long, unsigned int) @ 0x13e8a3d2 in /usr/bin/clickhouse\n7. DB::InterpreterSelectQuery::executeFetchColumns(DB::QueryProcessingStage::Enum, DB::QueryPlan&) @ 0x13a783ba in /usr/bin/clickhouse\n8. DB::InterpreterSelectQuery::executeImpl(DB::QueryPlan&, std::__1::optional<DB::Pipe>) @ 0x13a70454 in /usr/bin/clickhouse\n9. DB::InterpreterSelectQuery::buildQueryPlan(DB::QueryPlan&) @ 0x13a6ff90 in /usr/bin/clickhouse\n10. DB::InterpreterSelectWithUnionQuery::buildQueryPlan(DB::QueryPlan&) @ 0x13abfc03 in /usr/bin/clickhouse\n11. DB::IInterpreterUnionOrSelectQuery::buildQueryPipeline() @ 0x13a50d53 in /usr/bin/clickhouse\n12. DB::InterpreterInsertQuery::execute() @ 0x13a4c8c4 in /usr/bin/clickhouse\n13. ? @ 0x13d1434c in /usr/bin/clickhouse\n14. DB::executeQuery(std::__1::basic_string<char, std::__1::char_traits<char>, std::__1::allocator<char> > const&, std::__1::shared_ptr<DB::Context>, bool, DB::QueryProcessingStage::Enum) @ 0x13d11e55 in /usr/bin/clickhouse\n15. DB::TCPHandler::runImpl() @ 0x147f050f in /usr/bin/clickhouse\n16. DB::TCPHandler::run() @ 0x14804259 in /usr/bin/clickhouse\n17. Poco::Net::TCPServerConnection::start() @ 0x1745e52f in /usr/bin/clickhouse\n18. Poco::Net::TCPServerDispatcher::run() @ 0x17460981 in /usr/bin/clickhouse\n19. Poco::PooledThread::run() @ 0x17611609 in /usr/bin/clickhouse\n20. Poco::ThreadImpl::runnableEntry(void*) @ 0x1760ed00 in /usr/bin/clickhouse\n21. ? @ 0x7fc82b726609 in ?\n22. __clone @ 0x7fc82b64d293 in ?\n"
     ]
    }
   ],
   "source": [
    "client.execute(\n",
    "'''\n",
    "INSERT INTO trips\n",
    "SELECT * FROM s3(\n",
    "    'https://datasets-documentation.s3.eu-west-3.amazonaws.com/nyc-taxi/trips_{1..2}.gz',\n",
    "    'TabSeparatedWithNames', \"\n",
    "    `trip_id` UInt32,\n",
    "    `vendor_id` Enum8('1' = 1, '2' = 2, '3' = 3, '4' = 4, 'CMT' = 5, 'VTS' = 6, 'DDS' = 7, 'B02512' = 10, 'B02598' = 11, 'B02617' = 12, 'B02682' = 13, 'B02764' = 14, '' = 15),\n",
    "    `pickup_date` Date,\n",
    "    `pickup_datetime` DateTime,\n",
    "    `dropoff_date` Date,\n",
    "    `dropoff_datetime` DateTime,\n",
    "    `store_and_fwd_flag` UInt8,\n",
    "    `rate_code_id` UInt8,\n",
    "    `pickup_longitude` Float64,\n",
    "    `pickup_latitude` Float64,\n",
    "    `dropoff_longitude` Float64,\n",
    "    `dropoff_latitude` Float64,\n",
    "    `passenger_count` UInt8,\n",
    "    `trip_distance` Float64,\n",
    "    `fare_amount` Float32,\n",
    "    `extra` Float32,\n",
    "    `mta_tax` Float32,\n",
    "    `tip_amount` Float32,\n",
    "    `tolls_amount` Float32,\n",
    "    `ehail_fee` Float32,\n",
    "    `improvement_surcharge` Float32,\n",
    "    `total_amount` Float32,\n",
    "    `payment_type` Enum8('UNK' = 0, 'CSH' = 1, 'CRE' = 2, 'NOC' = 3, 'DIS' = 4),\n",
    "    `trip_type` UInt8,\n",
    "    `pickup` FixedString(25),\n",
    "    `dropoff` FixedString(25),\n",
    "    `cab_type` Enum8('yellow' = 1, 'green' = 2, 'uber' = 3),\n",
    "    `pickup_nyct2010_gid` Int8,\n",
    "    `pickup_ctlabel` Float32,\n",
    "    `pickup_borocode` Int8,\n",
    "    `pickup_ct2010` String,\n",
    "    `pickup_boroct2010` String,\n",
    "    `pickup_cdeligibil` String,\n",
    "    `pickup_ntacode` FixedString(4),\n",
    "    `pickup_ntaname` String,\n",
    "    `pickup_puma` UInt16,\n",
    "    `dropoff_nyct2010_gid` UInt8,\n",
    "    `dropoff_ctlabel` Float32,\n",
    "    `dropoff_borocode` UInt8,\n",
    "    `dropoff_ct2010` String,\n",
    "    `dropoff_boroct2010` String,\n",
    "    `dropoff_cdeligibil` String,\n",
    "    `dropoff_ntacode` FixedString(4),\n",
    "    `dropoff_ntaname` String,\n",
    "    `dropoff_puma` UInt16\n",
    "\")\n",
    "'''\n",
    ")"
   ]
  },
  {
   "cell_type": "code",
   "execution_count": 35,
   "id": "3808ee71",
   "metadata": {},
   "outputs": [
    {
     "data": {
      "text/plain": [
       "[(1999657,)]"
      ]
     },
     "execution_count": 35,
     "metadata": {},
     "output_type": "execute_result"
    }
   ],
   "source": [
    "client.execute(\"SELECT count() FROM trips\")"
   ]
  },
  {
   "cell_type": "code",
   "execution_count": 38,
   "id": "d8853abd",
   "metadata": {},
   "outputs": [
    {
     "name": "stdout",
     "output_type": "stream",
     "text": [
      "[(1.68,)]\n"
     ]
    }
   ],
   "source": [
    "tip_amount = client.execute(\"SELECT round(avg(tip_amount), 2) FROM trips\")  \n",
    "print(tip_amount)"
   ]
  },
  {
   "cell_type": "code",
   "execution_count": 39,
   "id": "b33a266f",
   "metadata": {},
   "outputs": [
    {
     "data": {
      "text/plain": [
       "list"
      ]
     },
     "execution_count": 39,
     "metadata": {},
     "output_type": "execute_result"
    }
   ],
   "source": [
    "type(tip_amount)"
   ]
  },
  {
   "cell_type": "code",
   "execution_count": 40,
   "id": "8c49efc8",
   "metadata": {},
   "outputs": [
    {
     "data": {
      "text/plain": [
       "1.68"
      ]
     },
     "execution_count": 40,
     "metadata": {},
     "output_type": "execute_result"
    }
   ],
   "source": [
    "tip_amount[0][0]"
   ]
  },
  {
   "cell_type": "code",
   "execution_count": 21,
   "id": "08319d8d",
   "metadata": {},
   "outputs": [],
   "source": [
    "avg_price = client.execute(\n",
    "'''\n",
    "SELECT\n",
    "    passenger_count,\n",
    "    ceil(avg(total_amount),2) AS average_total_amount\n",
    "FROM trips\n",
    "GROUP BY passenger_count\n",
    "'''\n",
    ")"
   ]
  },
  {
   "cell_type": "code",
   "execution_count": 23,
   "id": "860285a9",
   "metadata": {},
   "outputs": [],
   "source": [
    "import pandas as pd"
   ]
  },
  {
   "cell_type": "code",
   "execution_count": 24,
   "id": "9af81d2b",
   "metadata": {},
   "outputs": [],
   "source": [
    "df = pd.DataFrame(avg_price, columns=(\"passenger_count\", \"average_total_amount\"))"
   ]
  },
  {
   "cell_type": "code",
   "execution_count": 25,
   "id": "ef12f98b",
   "metadata": {},
   "outputs": [
    {
     "data": {
      "text/html": [
       "<div>\n",
       "<style scoped>\n",
       "    .dataframe tbody tr th:only-of-type {\n",
       "        vertical-align: middle;\n",
       "    }\n",
       "\n",
       "    .dataframe tbody tr th {\n",
       "        vertical-align: top;\n",
       "    }\n",
       "\n",
       "    .dataframe thead th {\n",
       "        text-align: right;\n",
       "    }\n",
       "</style>\n",
       "<table border=\"1\" class=\"dataframe\">\n",
       "  <thead>\n",
       "    <tr style=\"text-align: right;\">\n",
       "      <th></th>\n",
       "      <th>passenger_count</th>\n",
       "      <th>average_total_amount</th>\n",
       "    </tr>\n",
       "  </thead>\n",
       "  <tbody>\n",
       "    <tr>\n",
       "      <th>0</th>\n",
       "      <td>0</td>\n",
       "      <td>22.69</td>\n",
       "    </tr>\n",
       "    <tr>\n",
       "      <th>1</th>\n",
       "      <td>1</td>\n",
       "      <td>15.97</td>\n",
       "    </tr>\n",
       "    <tr>\n",
       "      <th>2</th>\n",
       "      <td>2</td>\n",
       "      <td>17.15</td>\n",
       "    </tr>\n",
       "    <tr>\n",
       "      <th>3</th>\n",
       "      <td>3</td>\n",
       "      <td>16.76</td>\n",
       "    </tr>\n",
       "    <tr>\n",
       "      <th>4</th>\n",
       "      <td>4</td>\n",
       "      <td>17.33</td>\n",
       "    </tr>\n",
       "    <tr>\n",
       "      <th>5</th>\n",
       "      <td>5</td>\n",
       "      <td>16.35</td>\n",
       "    </tr>\n",
       "    <tr>\n",
       "      <th>6</th>\n",
       "      <td>6</td>\n",
       "      <td>16.04</td>\n",
       "    </tr>\n",
       "    <tr>\n",
       "      <th>7</th>\n",
       "      <td>7</td>\n",
       "      <td>59.80</td>\n",
       "    </tr>\n",
       "    <tr>\n",
       "      <th>8</th>\n",
       "      <td>8</td>\n",
       "      <td>36.41</td>\n",
       "    </tr>\n",
       "    <tr>\n",
       "      <th>9</th>\n",
       "      <td>9</td>\n",
       "      <td>9.81</td>\n",
       "    </tr>\n",
       "  </tbody>\n",
       "</table>\n",
       "</div>"
      ],
      "text/plain": [
       "   passenger_count  average_total_amount\n",
       "0                0                 22.69\n",
       "1                1                 15.97\n",
       "2                2                 17.15\n",
       "3                3                 16.76\n",
       "4                4                 17.33\n",
       "5                5                 16.35\n",
       "6                6                 16.04\n",
       "7                7                 59.80\n",
       "8                8                 36.41\n",
       "9                9                  9.81"
      ]
     },
     "execution_count": 25,
     "metadata": {},
     "output_type": "execute_result"
    }
   ],
   "source": [
    "df"
   ]
  },
  {
   "cell_type": "code",
   "execution_count": null,
   "id": "9a5a87d7",
   "metadata": {},
   "outputs": [],
   "source": [
    "pickup_num = client.execute(\n",
    "'''\n",
    "SELECT\n",
    "    pickup_date,\n",
    "    pickup_ntaname,\n",
    "    SUM(1) AS number_of_trips\n",
    "FROM trips\n",
    "GROUP BY pickup_date, pickup_ntaname\n",
    "ORDER BY pickup_date ASC\n",
    "'''\n",
    ")"
   ]
  },
  {
   "cell_type": "code",
   "execution_count": null,
   "id": "202fc249",
   "metadata": {},
   "outputs": [],
   "source": [
    "df = pd.DataFrame(pickup_num, columns=(\"pickup_date\", \"pickup_ntaname\", \"number_of_trips\"))\n",
    "df"
   ]
  },
  {
   "cell_type": "code",
   "execution_count": null,
   "id": "3bbc8896",
   "metadata": {},
   "outputs": [],
   "source": [
    "trip_minutes = client.execute(\n",
    "'''\n",
    "SELECT\n",
    "    avg(tip_amount) AS avg_tip,\n",
    "    avg(fare_amount) AS avg_fare,\n",
    "    avg(passenger_count) AS avg_passenger,\n",
    "    count() AS count,\n",
    "    truncate(date_diff('second', pickup_datetime, dropoff_datetime)/3600) as trip_minutes\n",
    "FROM trips\n",
    "WHERE trip_minutes > 0\n",
    "GROUP BY trip_minutes\n",
    "ORDER BY trip_minutes DESC\n",
    "'''\n",
    ")"
   ]
  },
  {
   "cell_type": "code",
   "execution_count": null,
   "id": "d47682e2",
   "metadata": {},
   "outputs": [],
   "source": [
    "df = pd.DataFrame(trip_minutes, columns=(\"avg_tip\", \"avg_fare\", \"avg_passenger\", \"count\", \"trip_minutes\"))\n",
    "df"
   ]
  },
  {
   "cell_type": "code",
   "execution_count": null,
   "id": "93a48c51",
   "metadata": {},
   "outputs": [],
   "source": []
  }
 ],
 "metadata": {
  "kernelspec": {
   "display_name": "Python 3",
   "language": "python",
   "name": "python3"
  },
  "language_info": {
   "codemirror_mode": {
    "name": "ipython",
    "version": 3
   },
   "file_extension": ".py",
   "mimetype": "text/x-python",
   "name": "python",
   "nbconvert_exporter": "python",
   "pygments_lexer": "ipython3",
   "version": "3.11.8"
  }
 },
 "nbformat": 4,
 "nbformat_minor": 5
}
