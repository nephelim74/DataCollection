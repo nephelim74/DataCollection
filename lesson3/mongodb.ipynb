{
 "cells": [
  {
   "cell_type": "code",
   "execution_count": null,
   "metadata": {},
   "outputs": [],
   "source": [
    "import json\n",
    "\n",
    "with open('steam_games.json', 'r', encoding='utf-8', errors='replace') as f:\n",
    "    data = json.load(f)\n",
    "\n",
    "with open('steam_games-2.json', 'w', encoding='utf-8') as f:\n",
    "    json.dump(data, f, indent=4)\n",
    "# print(data)\n"
   ]
  },
  {
   "cell_type": "code",
   "execution_count": 12,
   "metadata": {},
   "outputs": [
    {
     "name": "stdout",
     "output_type": "stream",
     "text": [
      "Large file uploaded with ID: 67364af111c199b79237af04\n",
      "The JSON file does not contain a list of games.\n"
     ]
    }
   ],
   "source": [
    "from pymongo import MongoClient\n",
    "import gridfs\n",
    "import json\n",
    "\n",
    "# Подключение к MongoDB\n",
    "client = MongoClient('mongodb://localhost:27017/')\n",
    "db = client.steam  # Используем базу данных 'steam'\n",
    "\n",
    "# Создаем экземпляр GridFS\n",
    "fs = gridfs.GridFS(db)\n",
    "\n",
    "# Путь к вашему большому файлу\n",
    "large_file_path = 'steam_games-2.json'  # Укажите путь к вашему файлу steam_games.json\n",
    "\n",
    "# Загрузка файла в GridFS\n",
    "with open(large_file_path, 'rb') as file:\n",
    "    file_id = fs.put(file, filename='steam_games-2.json')\n",
    "    print(f'Large file uploaded with ID: {file_id}')\n",
    "\n",
    "# Извлечение файла и загрузка данных в коллекцию\n",
    "file_data = fs.get(file_id)\n",
    "\n",
    "# Чтение содержимого JSON файла\n",
    "data = json.load(file_data)\n",
    "\n",
    "# Вставка данных в коллекцию 'games'\n",
    "if isinstance(data, list):  # Проверяем, является ли data списком\n",
    "    db.games.insert_many(data)  # Вставляем все игры\n",
    "    print(f'Inserted {len(data)} games into the database.')\n",
    "else:\n",
    "    print('The JSON file does not contain a list of games.')\n",
    "\n",
    "# # Удаление файла из GridFS (если это необходимо)\n",
    "# fs.delete(file_id)\n",
    "# print('Large file deleted from GridFS.')\n"
   ]
  },
  {
   "cell_type": "code",
   "execution_count": 7,
   "metadata": {},
   "outputs": [
    {
     "ename": "ImportError",
     "evalue": "cannot import name 'MongoClient' from 'pymongo' (c:\\Users\\nephelim\\Desktop\\skill\\DataCollection\\lesson3\\pymongo.py)",
     "output_type": "error",
     "traceback": [
      "\u001b[1;31m---------------------------------------------------------------------------\u001b[0m",
      "\u001b[1;31mImportError\u001b[0m                               Traceback (most recent call last)",
      "Cell \u001b[1;32mIn[7], line 1\u001b[0m\n\u001b[1;32m----> 1\u001b[0m \u001b[38;5;28;01mfrom\u001b[39;00m \u001b[38;5;21;01mpymongo\u001b[39;00m \u001b[38;5;28;01mimport\u001b[39;00m MongoClient\n\u001b[0;32m      2\u001b[0m \u001b[38;5;28;01mimport\u001b[39;00m \u001b[38;5;21;01mgridfs\u001b[39;00m\n\u001b[0;32m      3\u001b[0m \u001b[38;5;28;01mimport\u001b[39;00m \u001b[38;5;21;01mjson\u001b[39;00m\n",
      "\u001b[1;31mImportError\u001b[0m: cannot import name 'MongoClient' from 'pymongo' (c:\\Users\\nephelim\\Desktop\\skill\\DataCollection\\lesson3\\pymongo.py)"
     ]
    }
   ],
   "source": [
    "from pymongo import MongoClient\n",
    "import gridfs\n",
    "import json"
   ]
  },
  {
   "cell_type": "code",
   "execution_count": 13,
   "metadata": {},
   "outputs": [
    {
     "name": "stdout",
     "output_type": "stream",
     "text": [
      "Large file uploaded with ID: 6734f854d6ff34dbf56faf1c\n",
      "The JSON file does not contain a list of games.\n"
     ]
    }
   ],
   "source": [
    "from pymongo import MongoClient\n",
    "import gridfs\n",
    "import json\n",
    "\n",
    "# Подключение к MongoDB\n",
    "client = MongoClient('mongodb://localhost:27017/')\n",
    "db = client.steam  # Используем базу данных 'steam'\n",
    "\n",
    "# Создаем экземпляр GridFS\n",
    "fs = gridfs.GridFS(db)\n",
    "\n",
    "# Путь к вашему файлу steam_games.json\n",
    "large_file_path = 'steam_games.json'  # Укажите путь к вашему файлу steam_games.json\n",
    "\n",
    "# Загрузка файла в GridFS\n",
    "with open(large_file_path, 'rb') as file:\n",
    "    # Загружаем файл в GridFS\n",
    "    file_id = fs.put(file, filename='steam_games.json')\n",
    "    print(f'Large file uploaded with ID: {file_id}')\n",
    "\n",
    "# Извлечение файла и загрузка данных в коллекцию\n",
    "file_data = fs.get(file_id)\n",
    "\n",
    "# Чтение содержимого JSON файла\n",
    "data = json.load(file_data)\n",
    "\n",
    "# Вставка данных в коллекцию 'games'\n",
    "if isinstance(data, list):  # Проверяем, является ли data списком\n",
    "    db.games.insert_many(data)  # Вставляем все игры\n",
    "    print(f'Inserted {len(data)} games into the database.')\n",
    "else:\n",
    "    print('The JSON file does not contain a list of games.')\n",
    "\n",
    "# # Удаление файла из GridFS (если это необходимо)\n",
    "# fs.delete(file_id)\n",
    "# print('Large file deleted from GridFS.')\n"
   ]
  },
  {
   "cell_type": "code",
   "execution_count": null,
   "metadata": {},
   "outputs": [],
   "source": [
    "import json\n",
    "\n",
    "# Путь к вашему файлу steam_games.json\n",
    "large_file_path = 'steam_games.json'\n",
    "\n",
    "# Чтение содержимого JSON файла\n",
    "with open(large_file_path, 'r', encoding='utf-8', errors='replace') as file:\n",
    "    data = json.load(file)\n",
    "\n",
    "# Печать типа и структуры данных\n",
    "print(type(data))\n",
    "print(data)"
   ]
  },
  {
   "cell_type": "code",
   "execution_count": 11,
   "metadata": {},
   "outputs": [
    {
     "name": "stdout",
     "output_type": "stream",
     "text": [
      "File uploaded to GridFS with ID: 6735068511c199b79237ae12\n"
     ]
    },
    {
     "ename": "UnicodeDecodeError",
     "evalue": "'charmap' codec can't decode byte 0x98 in position 5797: character maps to <undefined>",
     "output_type": "error",
     "traceback": [
      "\u001b[1;31m---------------------------------------------------------------------------\u001b[0m",
      "\u001b[1;31mUnicodeDecodeError\u001b[0m                        Traceback (most recent call last)",
      "Cell \u001b[1;32mIn[11], line 23\u001b[0m\n\u001b[0;32m     20\u001b[0m \u001b[38;5;28;01mwith\u001b[39;00m \u001b[38;5;28mopen\u001b[39m(file_path, \u001b[38;5;124m'\u001b[39m\u001b[38;5;124mr\u001b[39m\u001b[38;5;124m'\u001b[39m) \u001b[38;5;28;01mas\u001b[39;00m file:\n\u001b[0;32m     21\u001b[0m     \u001b[38;5;66;03m# Предполагаем, что файл содержит массив объектов JSON\u001b[39;00m\n\u001b[0;32m     22\u001b[0m     buffer \u001b[38;5;241m=\u001b[39m []\n\u001b[1;32m---> 23\u001b[0m \u001b[43m    \u001b[49m\u001b[38;5;28;43;01mfor\u001b[39;49;00m\u001b[43m \u001b[49m\u001b[43mline\u001b[49m\u001b[43m \u001b[49m\u001b[38;5;129;43;01min\u001b[39;49;00m\u001b[43m \u001b[49m\u001b[43mfile\u001b[49m\u001b[43m:\u001b[49m\n\u001b[0;32m     24\u001b[0m \u001b[43m        \u001b[49m\u001b[38;5;28;43;01mtry\u001b[39;49;00m\u001b[43m:\u001b[49m\n\u001b[0;32m     25\u001b[0m \u001b[43m            \u001b[49m\u001b[43mgame_data\u001b[49m\u001b[43m \u001b[49m\u001b[38;5;241;43m=\u001b[39;49m\u001b[43m \u001b[49m\u001b[43mjson\u001b[49m\u001b[38;5;241;43m.\u001b[39;49m\u001b[43mloads\u001b[49m\u001b[43m(\u001b[49m\u001b[43mline\u001b[49m\u001b[38;5;241;43m.\u001b[39;49m\u001b[43mstrip\u001b[49m\u001b[43m(\u001b[49m\u001b[43m)\u001b[49m\u001b[43m)\u001b[49m\u001b[43m  \u001b[49m\u001b[38;5;66;43;03m# Загружаем каждую строку как JSON объект\u001b[39;49;00m\n",
      "File \u001b[1;32mc:\\Users\\nephelim\\AppData\\Local\\Programs\\Python\\Python311\\Lib\\encodings\\cp1251.py:23\u001b[0m, in \u001b[0;36mIncrementalDecoder.decode\u001b[1;34m(self, input, final)\u001b[0m\n\u001b[0;32m     22\u001b[0m \u001b[38;5;28;01mdef\u001b[39;00m \u001b[38;5;21mdecode\u001b[39m(\u001b[38;5;28mself\u001b[39m, \u001b[38;5;28minput\u001b[39m, final\u001b[38;5;241m=\u001b[39m\u001b[38;5;28;01mFalse\u001b[39;00m):\n\u001b[1;32m---> 23\u001b[0m     \u001b[38;5;28;01mreturn\u001b[39;00m codecs\u001b[38;5;241m.\u001b[39mcharmap_decode(\u001b[38;5;28minput\u001b[39m,\u001b[38;5;28mself\u001b[39m\u001b[38;5;241m.\u001b[39merrors,decoding_table)[\u001b[38;5;241m0\u001b[39m]\n",
      "\u001b[1;31mUnicodeDecodeError\u001b[0m: 'charmap' codec can't decode byte 0x98 in position 5797: character maps to <undefined>"
     ]
    }
   ],
   "source": [
    "import json\n",
    "import gridfs\n",
    "from pymongo import MongoClient\n",
    "\n",
    "# Подключение к MongoDB\n",
    "client = MongoClient('mongodb://localhost:27017/')\n",
    "db = client.steam  # Убедитесь, что база данных называется steam\n",
    "collection = db.games  # Коллекция для хранения игр\n",
    "fs = gridfs.GridFS(db)  # Инициализация GridFS\n",
    "\n",
    "# Путь к вашему большому файлу\n",
    "file_path = 'steam_games.json'\n",
    "\n",
    "# Загружаем файл в GridFS\n",
    "with open(file_path, 'rb') as file:\n",
    "    file_id = fs.put(file, filename='steam_games.json')\n",
    "    print(f'File uploaded to GridFS with ID: {file_id}')\n",
    "\n",
    "# Чтение файла и вставка данных в коллекцию\n",
    "with open(file_path, 'r') as file:\n",
    "    # Предполагаем, что файл содержит массив объектов JSON\n",
    "    buffer = []\n",
    "    for line in file:\n",
    "        try:\n",
    "            game_data = json.loads(line.strip())  # Загружаем каждую строку как JSON объект\n",
    "            buffer.append(game_data)\n",
    "\n",
    "            # Если буфер достигает определенного размера, вставляем данные в коллекцию\n",
    "            if len(buffer) >= 1000:  # Например, вставляем по 1000 объектов за раз\n",
    "                result = collection.insert_many(buffer)\n",
    "                print(f'Inserted {len(result.inserted_ids)} games into the database.')\n",
    "                buffer.clear()  # Очищаем буфер\n",
    "\n",
    "        except json.JSONDecodeError as e:\n",
    "            print(f'Error decoding JSON: {e}')\n",
    "\n",
    "    # Вставляем оставшиеся данные в буфере\n",
    "    if buffer:\n",
    "        result = collection.insert_many(buffer)\n",
    "        print(f'Inserted {len(result.inserted_ids)} games into the database.')\n"
   ]
  },
  {
   "cell_type": "markdown",
   "metadata": {},
   "source": []
  },
  {
   "cell_type": "code",
   "execution_count": 7,
   "metadata": {},
   "outputs": [],
   "source": [
    "import json\n",
    "import os\n",
    "\n",
    "def split_json(input_file, output_dir, max_size):\n",
    "  \"\"\"\n",
    "  Разделяет JSON-файл на несколько меньших файлов.\n",
    "\n",
    "  Args:\n",
    "      input_file (str): Путь к исходному JSON-файлу.\n",
    "      output_dir (str): Каталог для сохранения разделенных файлов.\n",
    "      max_size (int): Максимальный размер каждого выходного файла в байтах.\n",
    "  \"\"\"\n",
    "\n",
    "  os.makedirs(output_dir, exist_ok=True) # Создать каталог, если его нет\n",
    "\n",
    "  with open(input_file, 'r', encoding='utf-8', errors='replace') as f:\n",
    "    data = json.load(f)\n",
    "\n",
    "  # Разбить данные на части\n",
    "  parts = []\n",
    "  current_part = []\n",
    "  current_size = 0\n",
    "  for item in data:\n",
    "    item_size = len(json.dumps(item))\n",
    "    if current_size + item_size > max_size:\n",
    "      parts.append(current_part)\n",
    "      current_part = [item]\n",
    "      current_size = item_size\n",
    "    else:\n",
    "      current_part.append(item)\n",
    "      current_size += item_size\n",
    "  parts.append(current_part) # Добавить последнюю часть\n",
    "\n",
    "  # Сохранить каждую часть в отдельный файл\n",
    "  for i, part in enumerate(parts):\n",
    "    with open(os.path.join(output_dir, f'part_{i+1}.json'), 'w', encoding='utf-8') as f:\n",
    "      json.dump(part, f, indent=2) # Используйте indent для лучшей читаемости\n",
    "\n",
    "# Пример использования\n",
    "input_file = 'steam_games-2.json'\n",
    "output_dir = 'output_files'\n",
    "max_size = 1024 * 1024 # 1 МБ\n",
    "split_json(input_file, output_dir, max_size)\n"
   ]
  },
  {
   "cell_type": "code",
   "execution_count": 8,
   "metadata": {},
   "outputs": [],
   "source": [
    "import json\n",
    "import os\n",
    "\n",
    "def split_json(input_file, output_dir, max_size):\n",
    "    \"\"\"\n",
    "    Разделяет JSON-файл на несколько меньших файлов.\n",
    "\n",
    "    Args:\n",
    "        input_file (str): Путь к исходному JSON-файлу.\n",
    "        output_dir (str): Каталог для сохранения разделенных файлов.\n",
    "        max_size (int): Максимальный размер каждого выходного файла в байтах.\n",
    "    \"\"\"\n",
    "\n",
    "    os.makedirs(output_dir, exist_ok=True) # Создать каталог, если его нет\n",
    "\n",
    "    with open(input_file, 'r', encoding='utf-8') as f:\n",
    "        data = json.load(f)\n",
    "\n",
    "    # Разбить данные на части\n",
    "    parts = []\n",
    "    current_part = []\n",
    "    current_size = 0\n",
    "    for item in data:\n",
    "        # Переводим JSON-объект в строку и получаем размер в байтах\n",
    "        item_str = json.dumps(item)\n",
    "        item_size = len(item_str.encode('utf-8')) # Используем кодировку utf-8\n",
    "\n",
    "        if current_size + item_size > max_size:\n",
    "            parts.append(current_part)\n",
    "            current_part = [item]\n",
    "            current_size = item_size\n",
    "        else:\n",
    "            current_part.append(item)\n",
    "            current_size += item_size\n",
    "    parts.append(current_part) # Добавить последнюю часть\n",
    "\n",
    "    # Сохранить каждую часть в отдельный файл\n",
    "    for i, part in enumerate(parts):\n",
    "        with open(os.path.join(output_dir, f'part_{i+1}.json'), 'w', encoding='utf-8') as f:\n",
    "            json.dump(part, f, indent=2) # Используйте indent для лучшей читаемости\n",
    "\n",
    "# Пример использования\n",
    "input_file = 'steam_games-2.json'\n",
    "output_dir = 'output_files'\n",
    "max_size = 1024 * 1024 # 1 МБ\n",
    "split_json(input_file, output_dir, max_size)\n"
   ]
  },
  {
   "cell_type": "code",
   "execution_count": 1,
   "metadata": {},
   "outputs": [
    {
     "ename": "ImportError",
     "evalue": "cannot import name 'MongoClient' from partially initialized module 'pymongo' (most likely due to a circular import) (c:\\Users\\nephelim\\Desktop\\skill\\DataCollection\\lesson3\\pymongo.py)",
     "output_type": "error",
     "traceback": [
      "\u001b[1;31m---------------------------------------------------------------------------\u001b[0m",
      "\u001b[1;31mImportError\u001b[0m                               Traceback (most recent call last)",
      "Cell \u001b[1;32mIn[1], line 1\u001b[0m\n\u001b[1;32m----> 1\u001b[0m \u001b[38;5;28;01mfrom\u001b[39;00m \u001b[38;5;21;01mpymongo\u001b[39;00m \u001b[38;5;28;01mimport\u001b[39;00m MongoClient\n\u001b[0;32m      2\u001b[0m client \u001b[38;5;241m=\u001b[39m MongoClient(\u001b[38;5;124m'\u001b[39m\u001b[38;5;124mmongodb://localhost:27017/\u001b[39m\u001b[38;5;124m'\u001b[39m)\n\u001b[0;32m      3\u001b[0m db \u001b[38;5;241m=\u001b[39m client[\u001b[38;5;124m'\u001b[39m\u001b[38;5;124musers\u001b[39m\u001b[38;5;124m'\u001b[39m]\n",
      "File \u001b[1;32mc:\\Users\\nephelim\\Desktop\\skill\\DataCollection\\lesson3\\pymongo.py:1\u001b[0m\n\u001b[1;32m----> 1\u001b[0m \u001b[38;5;28;01mfrom\u001b[39;00m \u001b[38;5;21;01mpymongo\u001b[39;00m \u001b[38;5;28;01mimport\u001b[39;00m MongoClient\n\u001b[0;32m      2\u001b[0m client \u001b[38;5;241m=\u001b[39m MongoClient(\u001b[38;5;124m'\u001b[39m\u001b[38;5;124mmongodb://localhost:27017/\u001b[39m\u001b[38;5;124m'\u001b[39m)\n\u001b[0;32m      3\u001b[0m db \u001b[38;5;241m=\u001b[39m client[\u001b[38;5;124m'\u001b[39m\u001b[38;5;124musers\u001b[39m\u001b[38;5;124m'\u001b[39m]\n",
      "\u001b[1;31mImportError\u001b[0m: cannot import name 'MongoClient' from partially initialized module 'pymongo' (most likely due to a circular import) (c:\\Users\\nephelim\\Desktop\\skill\\DataCollection\\lesson3\\pymongo.py)"
     ]
    }
   ],
   "source": [
    "from pymongo import MongoClient\n",
    "client = MongoClient('mongodb://localhost:27017/')\n",
    "db = client['users']\n",
    "persons = db.persons\n",
    "\n",
    "doc = {\n",
    "    'autor':'Peter',\n",
    "    'text':'is cool! Wilberry',\n",
    "    'date':'2020-01-01',\n",
    "    'likes': 0,\n",
    "    'tags':['cool','hot','ice'],\n",
    "    'comments':['good']\n",
    "}\n",
    "\n",
    "persons.insert_one(doc)\n",
    "\n",
    "for doc in persons.find():\n",
    "    print(doc)"
   ]
  },
  {
   "cell_type": "markdown",
   "metadata": {},
   "source": []
  }
 ],
 "metadata": {
  "kernelspec": {
   "display_name": "Python 3",
   "language": "python",
   "name": "python3"
  },
  "language_info": {
   "codemirror_mode": {
    "name": "ipython",
    "version": 3
   },
   "file_extension": ".py",
   "mimetype": "text/x-python",
   "name": "python",
   "nbconvert_exporter": "python",
   "pygments_lexer": "ipython3",
   "version": "3.11.8"
  }
 },
 "nbformat": 4,
 "nbformat_minor": 2
}
